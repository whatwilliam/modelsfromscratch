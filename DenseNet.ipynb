{
 "cells": [
  {
   "cell_type": "code",
   "execution_count": 2,
   "metadata": {},
   "outputs": [],
   "source": [
    "import tensorflow as tf\n",
    "tf.enable_eager_execution()\n",
    "import tensorflow_datasets as tfds\n",
    "import keras\n",
    "from tensorflow.keras.layers import *"
   ]
  },
  {
   "cell_type": "code",
   "execution_count": 3,
   "metadata": {},
   "outputs": [],
   "source": [
    "#loading datasets through tensorflow datasets\n",
    "#(x_train,y_train),(x_val,y_val) = cifar10.load_data() <-- this is the same thing but with the keras dataset\n",
    "#it's better to learn with tensorflow datasets because there are a lot more of them, so if you want to use datasets other than cifar or mnist they are pretty useful\n",
    "train_dataset = tfds.load(\"cifar10\", with_info=False,split=tfds.Split.TRAIN)\n",
    "#IMPORTANT: tfds.load returns a dataset as a dictionary, so .map must be used to iterate through data so model read and fit data\n",
    "train_dataset = train_dataset.map(lambda ele: tuple([ele['image'], ele['label']])).repeat().batch(16)\n",
    "\n",
    "test_dataset = tfds.load(\"cifar10\", with_info=False,split=tfds.Split.TEST)\n",
    "test_dataset = test_dataset.map(lambda ele: tuple([ele['image'], ele['label']])).repeat().batch(16)"
   ]
  },
  {
   "cell_type": "code",
   "execution_count": 4,
   "metadata": {},
   "outputs": [],
   "source": [
    "#we are going to be turning the dense block into a function so the model looks cleaner\n",
    "#also because we use the same series of convolutions over and over\n",
    "#you'll notice dense block is smaller and more modular than in the original paper. This is because cifar10 doesn't need as much processing \n",
    "def dense_block(inputs):\n",
    "    x1 = Conv2D(filters=16,kernel_size=1,padding='same',activation='relu')(inputs)\n",
    "    x1 = Conv2D(filters=32,kernel_size=3,padding='same',activation='relu')(x1)\n",
    "    \n",
    "    x2 = Conv2D(filters=16,kernel_size=1,padding='same',activation='relu')(x1)\n",
    "    x2 = Conv2D(filters=32,kernel_size=3,padding='same',activation='relu')(x2)\n",
    "    \n",
    "    #combine x1 and x2 channels\n",
    "    x2 = Concatenate()([x1,x2])\n",
    "    \n",
    "    x3 = Conv2D(filters=16,kernel_size=1,padding='same',activation='relu')(x2)\n",
    "    x3 = Conv2D(filters=32,kernel_size=3,padding='same',activation='relu')(x3)\n",
    "    \n",
    "    #combine x1, x2, and x3 channels\n",
    "    concat = Concatenate()([x1,x2,x3])\n",
    "    \n",
    "    x4 = Conv2D(filters=16,kernel_size=1,padding='same',activation='relu')(concat)\n",
    "    x4 = Conv2D(filters=32,kernel_size=3,padding='same',activation='relu')(x4)\n",
    "    \n",
    "    #combine x1, x2, x3, and x4 channels\n",
    "    concat = Concatenate()([x1,x2,x3,x4])\n",
    "    \n",
    "    return concat"
   ]
  },
  {
   "cell_type": "code",
   "execution_count": 5,
   "metadata": {},
   "outputs": [
    {
     "name": "stdout",
     "output_type": "stream",
     "text": [
      "Model: \"model\"\n",
      "__________________________________________________________________________________________________\n",
      "Layer (type)                    Output Shape         Param #     Connected to                     \n",
      "==================================================================================================\n",
      "input_1 (InputLayer)            [(None, 32, 32, 3)]  0                                            \n",
      "__________________________________________________________________________________________________\n",
      "conv2d (Conv2D)                 (None, 32, 32, 16)   448         input_1[0][0]                    \n",
      "__________________________________________________________________________________________________\n",
      "batch_normalization (BatchNorma (None, 32, 32, 16)   64          conv2d[0][0]                     \n",
      "__________________________________________________________________________________________________\n",
      "conv2d_1 (Conv2D)               (None, 32, 32, 16)   2320        batch_normalization[0][0]        \n",
      "__________________________________________________________________________________________________\n",
      "batch_normalization_1 (BatchNor (None, 32, 32, 16)   64          conv2d_1[0][0]                   \n",
      "__________________________________________________________________________________________________\n",
      "conv2d_2 (Conv2D)               (None, 16, 16, 16)   2320        batch_normalization_1[0][0]      \n",
      "__________________________________________________________________________________________________\n",
      "batch_normalization_2 (BatchNor (None, 16, 16, 16)   64          conv2d_2[0][0]                   \n",
      "__________________________________________________________________________________________________\n",
      "max_pooling2d (MaxPooling2D)    (None, 8, 8, 16)     0           batch_normalization_2[0][0]      \n",
      "__________________________________________________________________________________________________\n",
      "conv2d_3 (Conv2D)               (None, 8, 8, 16)     272         max_pooling2d[0][0]              \n",
      "__________________________________________________________________________________________________\n",
      "conv2d_4 (Conv2D)               (None, 8, 8, 32)     4640        conv2d_3[0][0]                   \n",
      "__________________________________________________________________________________________________\n",
      "conv2d_5 (Conv2D)               (None, 8, 8, 16)     528         conv2d_4[0][0]                   \n",
      "__________________________________________________________________________________________________\n",
      "conv2d_6 (Conv2D)               (None, 8, 8, 32)     4640        conv2d_5[0][0]                   \n",
      "__________________________________________________________________________________________________\n",
      "concatenate (Concatenate)       (None, 8, 8, 64)     0           conv2d_4[0][0]                   \n",
      "                                                                 conv2d_6[0][0]                   \n",
      "__________________________________________________________________________________________________\n",
      "conv2d_7 (Conv2D)               (None, 8, 8, 16)     1040        concatenate[0][0]                \n",
      "__________________________________________________________________________________________________\n",
      "conv2d_8 (Conv2D)               (None, 8, 8, 32)     4640        conv2d_7[0][0]                   \n",
      "__________________________________________________________________________________________________\n",
      "concatenate_1 (Concatenate)     (None, 8, 8, 128)    0           conv2d_4[0][0]                   \n",
      "                                                                 concatenate[0][0]                \n",
      "                                                                 conv2d_8[0][0]                   \n",
      "__________________________________________________________________________________________________\n",
      "conv2d_9 (Conv2D)               (None, 8, 8, 16)     2064        concatenate_1[0][0]              \n",
      "__________________________________________________________________________________________________\n",
      "conv2d_10 (Conv2D)              (None, 8, 8, 32)     4640        conv2d_9[0][0]                   \n",
      "__________________________________________________________________________________________________\n",
      "concatenate_2 (Concatenate)     (None, 8, 8, 160)    0           conv2d_4[0][0]                   \n",
      "                                                                 concatenate[0][0]                \n",
      "                                                                 conv2d_8[0][0]                   \n",
      "                                                                 conv2d_10[0][0]                  \n",
      "__________________________________________________________________________________________________\n",
      "conv2d_11 (Conv2D)              (None, 8, 8, 16)     2576        concatenate_2[0][0]              \n",
      "__________________________________________________________________________________________________\n",
      "batch_normalization_3 (BatchNor (None, 8, 8, 16)     64          conv2d_11[0][0]                  \n",
      "__________________________________________________________________________________________________\n",
      "average_pooling2d (AveragePooli (None, 4, 4, 16)     0           batch_normalization_3[0][0]      \n",
      "__________________________________________________________________________________________________\n",
      "conv2d_12 (Conv2D)              (None, 4, 4, 16)     272         average_pooling2d[0][0]          \n",
      "__________________________________________________________________________________________________\n",
      "conv2d_13 (Conv2D)              (None, 4, 4, 32)     4640        conv2d_12[0][0]                  \n",
      "__________________________________________________________________________________________________\n",
      "conv2d_14 (Conv2D)              (None, 4, 4, 16)     528         conv2d_13[0][0]                  \n",
      "__________________________________________________________________________________________________\n",
      "conv2d_15 (Conv2D)              (None, 4, 4, 32)     4640        conv2d_14[0][0]                  \n",
      "__________________________________________________________________________________________________\n",
      "concatenate_3 (Concatenate)     (None, 4, 4, 64)     0           conv2d_13[0][0]                  \n",
      "                                                                 conv2d_15[0][0]                  \n",
      "__________________________________________________________________________________________________\n",
      "conv2d_16 (Conv2D)              (None, 4, 4, 16)     1040        concatenate_3[0][0]              \n",
      "__________________________________________________________________________________________________\n",
      "conv2d_17 (Conv2D)              (None, 4, 4, 32)     4640        conv2d_16[0][0]                  \n",
      "__________________________________________________________________________________________________\n",
      "concatenate_4 (Concatenate)     (None, 4, 4, 128)    0           conv2d_13[0][0]                  \n",
      "                                                                 concatenate_3[0][0]              \n",
      "                                                                 conv2d_17[0][0]                  \n",
      "__________________________________________________________________________________________________\n",
      "conv2d_18 (Conv2D)              (None, 4, 4, 16)     2064        concatenate_4[0][0]              \n",
      "__________________________________________________________________________________________________\n",
      "conv2d_19 (Conv2D)              (None, 4, 4, 32)     4640        conv2d_18[0][0]                  \n",
      "__________________________________________________________________________________________________\n",
      "concatenate_5 (Concatenate)     (None, 4, 4, 160)    0           conv2d_13[0][0]                  \n",
      "                                                                 concatenate_3[0][0]              \n",
      "                                                                 conv2d_17[0][0]                  \n",
      "                                                                 conv2d_19[0][0]                  \n",
      "__________________________________________________________________________________________________\n",
      "conv2d_20 (Conv2D)              (None, 4, 4, 16)     2576        concatenate_5[0][0]              \n",
      "__________________________________________________________________________________________________\n",
      "batch_normalization_4 (BatchNor (None, 4, 4, 16)     64          conv2d_20[0][0]                  \n",
      "__________________________________________________________________________________________________\n",
      "average_pooling2d_1 (AveragePoo (None, 2, 2, 16)     0           batch_normalization_4[0][0]      \n",
      "__________________________________________________________________________________________________\n",
      "conv2d_21 (Conv2D)              (None, 2, 2, 16)     272         average_pooling2d_1[0][0]        \n",
      "__________________________________________________________________________________________________\n",
      "conv2d_22 (Conv2D)              (None, 2, 2, 32)     4640        conv2d_21[0][0]                  \n",
      "__________________________________________________________________________________________________\n",
      "conv2d_23 (Conv2D)              (None, 2, 2, 16)     528         conv2d_22[0][0]                  \n",
      "__________________________________________________________________________________________________\n",
      "conv2d_24 (Conv2D)              (None, 2, 2, 32)     4640        conv2d_23[0][0]                  \n",
      "__________________________________________________________________________________________________\n",
      "concatenate_6 (Concatenate)     (None, 2, 2, 64)     0           conv2d_22[0][0]                  \n",
      "                                                                 conv2d_24[0][0]                  \n",
      "__________________________________________________________________________________________________\n",
      "conv2d_25 (Conv2D)              (None, 2, 2, 16)     1040        concatenate_6[0][0]              \n",
      "__________________________________________________________________________________________________\n",
      "conv2d_26 (Conv2D)              (None, 2, 2, 32)     4640        conv2d_25[0][0]                  \n",
      "__________________________________________________________________________________________________\n",
      "concatenate_7 (Concatenate)     (None, 2, 2, 128)    0           conv2d_22[0][0]                  \n",
      "                                                                 concatenate_6[0][0]              \n",
      "                                                                 conv2d_26[0][0]                  \n",
      "__________________________________________________________________________________________________\n",
      "conv2d_27 (Conv2D)              (None, 2, 2, 16)     2064        concatenate_7[0][0]              \n",
      "__________________________________________________________________________________________________\n",
      "conv2d_28 (Conv2D)              (None, 2, 2, 32)     4640        conv2d_27[0][0]                  \n",
      "__________________________________________________________________________________________________\n",
      "concatenate_8 (Concatenate)     (None, 2, 2, 160)    0           conv2d_22[0][0]                  \n",
      "                                                                 concatenate_6[0][0]              \n",
      "                                                                 conv2d_26[0][0]                  \n",
      "                                                                 conv2d_28[0][0]                  \n",
      "__________________________________________________________________________________________________\n",
      "global_average_pooling2d (Globa (None, 160)          0           concatenate_8[0][0]              \n",
      "__________________________________________________________________________________________________\n",
      "dense (Dense)                   (None, 10)           1610        global_average_pooling2d[0][0]   \n",
      "__________________________________________________________________________________________________\n",
      "softmax (Softmax)               (None, 10)           0           dense[0][0]                      \n",
      "==================================================================================================\n",
      "Total params: 79,562\n",
      "Trainable params: 79,402\n",
      "Non-trainable params: 160\n",
      "__________________________________________________________________________________________________\n"
     ]
    }
   ],
   "source": [
    "inputs = Input(shape=(32,32,3)) #cifar images are 32x32 color images\n",
    "x = Conv2D(filters=16,kernel_size=3,padding='same',activation='relu')(inputs)\n",
    "x = BatchNormalization()(x) #having batch norms after convolutions can help model converge\n",
    "x = Conv2D(filters=16,kernel_size=3,padding='same',activation='relu')(x)\n",
    "x = BatchNormalization()(x)\n",
    "x = Conv2D(filters=16,kernel_size=3,strides=2,padding='same',activation='relu')(x) #downsampling to 16x16\n",
    "x = BatchNormalization()(x)\n",
    "x = MaxPooling2D(pool_size=3,strides=2,padding='same')(x) #downsampling again to 8x8\n",
    "\n",
    "x = dense_block(x)\n",
    "\n",
    "x = Conv2D(filters=16,kernel_size=1,padding='same',activation='relu')(x)\n",
    "x = BatchNormalization()(x)\n",
    "x = AveragePooling2D(pool_size=2,strides=2,padding='same')(x) #downsampling to 4x4\n",
    "\n",
    "x = dense_block(x)\n",
    "    \n",
    "x = Conv2D(filters=16,kernel_size=1,padding='same',activation='relu')(x)\n",
    "x = BatchNormalization()(x)\n",
    "x = AveragePooling2D(pool_size=2,strides=2,padding='same')(x) #downsampling to 2x2\n",
    "\n",
    "x = dense_block(x) \n",
    "\n",
    "x = GlobalAveragePooling2D()(x) #similar function to Flatten() but removes location based bias\n",
    "x = Dense(10,activation='relu')(x) #fully connect all 10 classes\n",
    "x = Softmax()(x)\n",
    "\n",
    "model = tf.keras.Model(inputs,x)\n",
    "#output layers and parameters\n",
    "model.summary()"
   ]
  },
  {
   "cell_type": "code",
   "execution_count": 6,
   "metadata": {},
   "outputs": [
    {
     "name": "stderr",
     "output_type": "stream",
     "text": [
      "WARNING: Logging before flag parsing goes to stderr.\n",
      "W0811 15:38:02.055115 139751290283776 deprecation.py:323] From /usr/local/lib/python3.5/dist-packages/tensorflow/python/ops/math_grad.py:1250: add_dispatch_support.<locals>.wrapper (from tensorflow.python.ops.array_ops) is deprecated and will be removed in a future version.\n",
      "Instructions for updating:\n",
      "Use tf.where in 2.0, which has the same broadcast rule as np.where\n"
     ]
    },
    {
     "name": "stdout",
     "output_type": "stream",
     "text": [
      "Epoch 1/10\n",
      "20900/50000 [===========>..................] - ETA: 13:45 - loss: 1.6630 - acc: 0.4229"
     ]
    },
    {
     "name": "stderr",
     "output_type": "stream",
     "text": [
      "E0811 15:47:55.148799 139751290283776 ultratb.py:155] Internal Python error in the inspect module.\n",
      "Below is the traceback from this internal error.\n",
      "\n"
     ]
    },
    {
     "name": "stdout",
     "output_type": "stream",
     "text": [
      "Traceback (most recent call last):\n",
      "  File \"/usr/local/lib/python3.5/dist-packages/IPython/core/interactiveshell.py\", line 3325, in run_code\n",
      "    exec(code_obj, self.user_global_ns, self.user_ns)\n",
      "  File \"<ipython-input-6-2ce3bcf35918>\", line 3, in <module>\n",
      "    model.fit(train_dataset,steps_per_epoch=50000,epochs=10,verbose=1,validation_data=test_dataset,validation_steps=10000)\n",
      "  File \"/usr/local/lib/python3.5/dist-packages/tensorflow/python/keras/engine/training.py\", line 694, in fit\n",
      "    initial_epoch=initial_epoch)\n",
      "  File \"/usr/local/lib/python3.5/dist-packages/tensorflow/python/keras/engine/training.py\", line 1433, in fit_generator\n",
      "    steps_name='steps_per_epoch')\n",
      "  File \"/usr/local/lib/python3.5/dist-packages/tensorflow/python/keras/engine/training_generator.py\", line 264, in model_iteration\n",
      "    batch_outs = batch_function(*batch_data)\n",
      "  File \"/usr/local/lib/python3.5/dist-packages/tensorflow/python/keras/engine/training.py\", line 1175, in train_on_batch\n",
      "    outputs = self.train_function(ins)  # pylint: disable=not-callable\n",
      "  File \"/usr/local/lib/python3.5/dist-packages/tensorflow/python/keras/backend.py\", line 3443, in __call__\n",
      "    outputs = self._graph_fn(*converted_inputs)\n",
      "  File \"/usr/local/lib/python3.5/dist-packages/tensorflow/python/eager/function.py\", line 561, in __call__\n",
      "    return self._call_flat(args)\n",
      "  File \"/usr/local/lib/python3.5/dist-packages/tensorflow/python/eager/function.py\", line 660, in _call_flat\n",
      "    outputs = self._inference_function.call(ctx, args)\n",
      "  File \"/usr/local/lib/python3.5/dist-packages/tensorflow/python/eager/function.py\", line 434, in call\n",
      "    ctx=ctx)\n",
      "  File \"/usr/local/lib/python3.5/dist-packages/tensorflow/python/eager/execute.py\", line 61, in quick_execute\n",
      "    num_outputs)\n",
      "KeyboardInterrupt\n",
      "\n",
      "During handling of the above exception, another exception occurred:\n",
      "\n",
      "Traceback (most recent call last):\n",
      "  File \"/usr/local/lib/python3.5/dist-packages/IPython/core/interactiveshell.py\", line 2039, in showtraceback\n",
      "    stb = value._render_traceback_()\n",
      "AttributeError: 'KeyboardInterrupt' object has no attribute '_render_traceback_'\n",
      "\n",
      "During handling of the above exception, another exception occurred:\n",
      "\n",
      "Traceback (most recent call last):\n",
      "  File \"/usr/local/lib/python3.5/dist-packages/IPython/core/ultratb.py\", line 1101, in get_records\n",
      "    return _fixed_getinnerframes(etb, number_of_lines_of_context, tb_offset)\n",
      "  File \"/usr/local/lib/python3.5/dist-packages/IPython/core/ultratb.py\", line 319, in wrapped\n",
      "    return f(*args, **kwargs)\n",
      "  File \"/usr/local/lib/python3.5/dist-packages/IPython/core/ultratb.py\", line 353, in _fixed_getinnerframes\n",
      "    records = fix_frame_records_filenames(inspect.getinnerframes(etb, context))\n",
      "  File \"/usr/lib/python3.5/inspect.py\", line 1454, in getinnerframes\n",
      "    frameinfo = (tb.tb_frame,) + getframeinfo(tb, context)\n",
      "  File \"/usr/lib/python3.5/inspect.py\", line 1411, in getframeinfo\n",
      "    filename = getsourcefile(frame) or getfile(frame)\n",
      "  File \"/usr/lib/python3.5/inspect.py\", line 671, in getsourcefile\n",
      "    if getattr(getmodule(object, filename), '__loader__', None) is not None:\n",
      "  File \"/usr/lib/python3.5/inspect.py\", line 717, in getmodule\n",
      "    os.path.realpath(f)] = module.__name__\n",
      "  File \"/usr/lib/python3.5/posixpath.py\", line 373, in realpath\n",
      "    path, ok = _joinrealpath(filename[:0], filename, {})\n",
      "  File \"/usr/lib/python3.5/posixpath.py\", line 407, in _joinrealpath\n",
      "    if not islink(newpath):\n",
      "  File \"/usr/lib/python3.5/posixpath.py\", line 161, in islink\n",
      "    st = os.lstat(path)\n",
      "KeyboardInterrupt\n"
     ]
    },
    {
     "ename": "KeyboardInterrupt",
     "evalue": "",
     "output_type": "error",
     "traceback": [
      "\u001b[0;31m---------------------------------------------------------------------------\u001b[0m"
     ]
    }
   ],
   "source": [
    "opt = tf.train.AdamOptimizer(learning_rate=0.001)\n",
    "model.compile(optimizer=opt,loss='sparse_categorical_crossentropy',metrics=['accuracy'])\n",
    "model.fit(train_dataset,steps_per_epoch=50000,epochs=10,verbose=1,validation_data=test_dataset,validation_steps=10000)\n",
    "#training takes quite a while, but you can see that the model is converging (loss decreases, accuracy increases)\n",
    "#with some fine-tuning, like reducing learning rate or adjusting hyperparameters, the model could be better, but for the sake of time we can use a pretrained model"
   ]
  },
  {
   "cell_type": "code",
   "execution_count": null,
   "metadata": {},
   "outputs": [],
   "source": [
    "#for quick results or comparisons you can install keras models trained on imagenet"
   ]
  },
  {
   "cell_type": "code",
   "execution_count": 7,
   "metadata": {},
   "outputs": [
    {
     "name": "stdout",
     "output_type": "stream",
     "text": [
      "Collecting git+https://github.com/keras-team/keras\n",
      "  Cloning https://github.com/keras-team/keras to /tmp/pip-xiFBOp-build\n",
      "Collecting git+https://github.com/keras-team/keras-applications\n",
      "  Cloning https://github.com/keras-team/keras-applications to /tmp/pip-84fB6d-build\n",
      "Collecting numpy>=1.9.1 (from Keras==2.2.4)\n",
      "  Using cached https://files.pythonhosted.org/packages/1f/c7/198496417c9c2f6226616cff7dedf2115a4f4d0276613bab842ec8ac1e23/numpy-1.16.4-cp27-cp27mu-manylinux1_x86_64.whl\n",
      "Collecting scipy>=0.14 (from Keras==2.2.4)\n",
      "  Using cached https://files.pythonhosted.org/packages/1d/f6/7c16d60aeb3694e5611976cb4f1eaf1c6b7f1e7c55771d691013405a02ea/scipy-1.2.2-cp27-cp27mu-manylinux1_x86_64.whl\n",
      "Collecting six>=1.9.0 (from Keras==2.2.4)\n",
      "  Using cached https://files.pythonhosted.org/packages/73/fb/00a976f728d0d1fecfe898238ce23f502a721c0ac0ecfedb80e0d88c64e9/six-1.12.0-py2.py3-none-any.whl\n",
      "Collecting pyyaml (from Keras==2.2.4)\n",
      "Collecting h5py (from Keras==2.2.4)\n",
      "  Using cached https://files.pythonhosted.org/packages/53/08/27e4e9a369321862ffdce80ff1770553e9daec65d98befb2e14e7478b698/h5py-2.9.0-cp27-cp27mu-manylinux1_x86_64.whl\n",
      "Collecting keras_applications>=1.0.6 (from Keras==2.2.4)\n",
      "Collecting keras_preprocessing>=1.0.5 (from Keras==2.2.4)\n",
      "  Using cached https://files.pythonhosted.org/packages/28/6a/8c1f62c37212d9fc441a7e26736df51ce6f0e38455816445471f10da4f0a/Keras_Preprocessing-1.1.0-py2.py3-none-any.whl\n",
      "Installing collected packages: numpy, scipy, six, pyyaml, h5py, keras-applications, keras-preprocessing, Keras\n",
      "  Running setup.py install for Keras ... \u001b[?25ldone\n",
      "\u001b[?25hSuccessfully installed Keras-2.2.4 h5py-2.9.0 keras-applications-1.0.8 keras-preprocessing-1.1.0 numpy-1.16.4 pyyaml-5.1.2 scipy-1.2.2 six-1.12.0\n"
     ]
    }
   ],
   "source": [
    "!pip install -U git+https://github.com/keras-team/keras git+https://github.com/keras-team/keras-applications"
   ]
  },
  {
   "cell_type": "code",
   "execution_count": 9,
   "metadata": {},
   "outputs": [],
   "source": [
    "from tensorflow.keras.applications import DenseNet121 #121 layer densenet made by keras through tensorflow lib\n",
    "import tensorflow.keras.layers"
   ]
  },
  {
   "cell_type": "code",
   "execution_count": 10,
   "metadata": {},
   "outputs": [
    {
     "name": "stdout",
     "output_type": "stream",
     "text": [
      "Model: \"model_1\"\n",
      "_________________________________________________________________\n",
      "Layer (type)                 Output Shape              Param #   \n",
      "=================================================================\n",
      "input_2 (InputLayer)         [(None, 32, 32, 3)]       0         \n",
      "_________________________________________________________________\n",
      "up_sampling2d (UpSampling2D) (None, 224, 224, 3)       0         \n",
      "_________________________________________________________________\n",
      "densenet121 (Model)          (None, 1000)              8062504   \n",
      "_________________________________________________________________\n",
      "dense_1 (Dense)              (None, 10)                10010     \n",
      "_________________________________________________________________\n",
      "softmax_1 (Softmax)          (None, 10)                0         \n",
      "=================================================================\n",
      "Total params: 8,072,514\n",
      "Trainable params: 10,010\n",
      "Non-trainable params: 8,062,504\n",
      "_________________________________________________________________\n"
     ]
    }
   ],
   "source": [
    "inputs = tf.keras.layers.Input(shape=(32,32,3)) #original cifar data size\n",
    "x = tf.keras.layers.UpSampling2D(size=7)(inputs) #imagenet uses 224x224 size, so to match pretrained downsampling, 32x32 needs to be upsampled by 7 to get a 224x224 image\n",
    "densenet = tf.keras.applications.DenseNet121(include_top=True,\n",
    "                                      weights='imagenet',\n",
    "                                      classes=1000) #introducing pretrained model\n",
    "for layer in densenet.layers:\n",
    "    layer.trainable = False #freezing weights, so pretrained weights aren't affected by training\n",
    "    \n",
    "x = densenet(x)\n",
    "x = tf.keras.layers.Dense(10, activation='relu')(x) #divide answer into 10 possible classes\n",
    "x = Softmax()(x)\n",
    "\n",
    "model = tf.keras.Model(inputs,x)\n",
    "model.summary()"
   ]
  },
  {
   "cell_type": "code",
   "execution_count": 11,
   "metadata": {},
   "outputs": [
    {
     "name": "stdout",
     "output_type": "stream",
     "text": []
    },
    {
     "name": "stdout",
     "output_type": "stream",
     "text": [
      "50000/50000 [==============================] - 8196s 164ms/step - loss: 2.0766 - acc: 0.5253 - val_loss: 2.3343 - val_acc: 0.1146\n"
     ]
    },
    {
     "data": {
      "text/plain": [
       "<tensorflow.python.keras.callbacks.History at 0x7f191e4414e0>"
      ]
     },
     "execution_count": 11,
     "metadata": {},
     "output_type": "execute_result"
    }
   ],
   "source": [
    "model.compile(optimizer=tf.train.AdamOptimizer(0.0001),loss='sparse_categorical_crossentropy',metrics=['accuracy'])\n",
    "model.fit(train_dataset,steps_per_epoch=50000,epochs=1,verbose=1,validation_data=test_dataset,validation_steps=10000) #training the top layers for these answers"
   ]
  },
  {
   "cell_type": "code",
   "execution_count": 13,
   "metadata": {},
   "outputs": [],
   "source": [
    "image, label = next(iter(train_dataset)) #iterating dataset into image and label (like x_train and y_train)\n",
    "image_val,label_val = next(iter(test_dataset)) #iterating dataset into image and label (like x_test and y_test)"
   ]
  },
  {
   "cell_type": "code",
   "execution_count": null,
   "metadata": {},
   "outputs": [],
   "source": [
    "#next we will see how well the model works"
   ]
  },
  {
   "cell_type": "code",
   "execution_count": 28,
   "metadata": {},
   "outputs": [
    {
     "name": "stdout",
     "output_type": "stream",
     "text": [
      "Test data shape (16, 32, 32, 3)\n"
     ]
    },
    {
     "data": {
      "text/plain": [
       "<matplotlib.image.AxesImage at 0x7f191c8d9c50>"
      ]
     },
     "execution_count": 28,
     "metadata": {},
     "output_type": "execute_result"
    },
    {
     "data": {
      "image/png": "[encoded data removed]",
      "text/plain": [
       "<Figure size 432x288 with 2 Axes>"
      ]
     },
     "metadata": {
      "needs_background": "light"
     },
     "output_type": "display_data"
    }
   ],
   "source": [
    "import tensorflow as tf\n",
    "from matplotlib import pyplot as plt #this is how we display images\n",
    "%matplotlib inline\n",
    "\n",
    "print('Test data shape', image.shape)\n",
    "_,(ax1,ax2) = plt.subplots(1,2)\n",
    "ax1.imshow(image[0]) #example 1\n",
    "ax2.imshow(image[7]) #example 2"
   ]
  },
  {
   "cell_type": "code",
   "execution_count": 19,
   "metadata": {},
   "outputs": [
    {
     "data": {
      "text/plain": [
       "<tf.Tensor: id=915613, shape=(), dtype=int64, numpy=9>"
      ]
     },
     "execution_count": 19,
     "metadata": {},
     "output_type": "execute_result"
    }
   ],
   "source": [
    "label_val[0] #actual correct answer to check how well model is working"
   ]
  },
  {
   "cell_type": "code",
   "execution_count": null,
   "metadata": {},
   "outputs": [],
   "source": [
    "# ___number key____\n",
    "# airplane: 0\n",
    "# automobile: 1\n",
    "# bird: 2\n",
    "# cat: 3\n",
    "# deer: 4\n",
    "# dog: 5\n",
    "# frog: 6\n",
    "# horse: 7\n",
    "# ship: 8\n",
    "# truck: 9"
   ]
  }
 ],
 "metadata": {
  "kernelspec": {
   "display_name": "Python 3",
   "language": "python",
   "name": "python3"
  },
  "language_info": {
   "codemirror_mode": {
    "name": "ipython",
    "version": 3
   },
   "file_extension": ".py",
   "mimetype": "text/x-python",
   "name": "python",
   "nbconvert_exporter": "python",
   "pygments_lexer": "ipython3",
   "version": "3.5.3"
  }
 },
 "nbformat": 4,
 "nbformat_minor": 2
}
