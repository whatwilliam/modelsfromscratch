{
 "cells": [
  {
   "cell_type": "code",
   "execution_count": 17,
   "metadata": {},
   "outputs": [],
   "source": [
    "import tensorflow as tf\n",
    "tf.enable_eager_execution()\n",
    "import tensorflow_datasets as tfds\n",
    "import keras\n",
    "import sklearn.model_selection as sk\n",
    "import pandas as pd\n",
    "from tensorflow.keras.layers import *"
   ]
  },
  {
   "cell_type": "code",
   "execution_count": 2,
   "metadata": {},
   "outputs": [],
   "source": [
    "#loading data from tensorflow datasets to get cifar data\n",
    "#loaded data must be mapped to be readable\n",
    "train_dataset = tfds.load(\"cifar10\", with_info=False,split=tfds.Split.TRAIN)\n",
    "train_dataset = train_dataset.map(lambda ele: tuple([ele['image'], ele['label']])).repeat().batch(16)\n",
    "\n",
    "test_dataset = tfds.load(\"cifar10\", with_info=False,split=tfds.Split.TEST)\n",
    "test_dataset = test_dataset.map(lambda ele: tuple([ele['image'], ele['label']])).repeat().batch(16)\n"
   ]
  },
  {
   "cell_type": "code",
   "execution_count": 23,
   "metadata": {},
   "outputs": [],
   "source": [
    "image, label = next(iter(train_dataset)) #dividing data into x_train and y_train\n",
    "image_val, label_val = next(iter(test_dataset)) #dividing data into x_val and y_val"
   ]
  },
  {
   "cell_type": "code",
   "execution_count": 51,
   "metadata": {},
   "outputs": [
    {
     "name": "stdout",
     "output_type": "stream",
     "text": [
      "Training data shape (16, 32, 32, 3)\n"
     ]
    },
    {
     "data": {
      "text/plain": [
       "<matplotlib.image.AxesImage at 0x7fb9883eca90>"
      ]
     },
     "execution_count": 51,
     "metadata": {},
     "output_type": "execute_result"
    },
    {
     "data": {
      "image/png": "[encoded data removed]",
      "text/plain": [
       "<Figure size 432x288 with 2 Axes>"
      ]
     },
     "metadata": {
      "needs_background": "light"
     },
     "output_type": "display_data"
    }
   ],
   "source": [
    "#printing data to make sure data load worked\n",
    "\n",
    "from matplotlib import pyplot as plt\n",
    "%matplotlib inline\n",
    "\n",
    "print('Training data shape', image.shape)\n",
    "_,(ax1,ax2) = plt.subplots(1,2)\n",
    "ax1.imshow(image_val[10])\n",
    "ax2.imshow(image_val[3])"
   ]
  },
  {
   "cell_type": "code",
   "execution_count": null,
   "metadata": {},
   "outputs": [],
   "source": [
    "# airplane: 0\n",
    "# automobile: 1\n",
    "# bird: 2\n",
    "# cat: 3\n",
    "# deer: 4\n",
    "# dog: 5\n",
    "# frog: 6\n",
    "# horse: 7\n",
    "# ship: 8\n",
    "# truck: 9"
   ]
  },
  {
   "cell_type": "code",
   "execution_count": 53,
   "metadata": {},
   "outputs": [
    {
     "data": {
      "text/plain": [
       "5"
      ]
     },
     "execution_count": 53,
     "metadata": {},
     "output_type": "execute_result"
    }
   ],
   "source": [
    "\n",
    "answer = model.predict(next(iter(test_dataset)))\n",
    "\n",
    "import numpy as np\n",
    "num_answer = np.argmax(answer[10])\n",
    "#model's answer\n",
    "num_answer"
   ]
  },
  {
   "cell_type": "code",
   "execution_count": 52,
   "metadata": {},
   "outputs": [
    {
     "data": {
      "text/plain": [
       "<tf.Tensor: id=2420, shape=(), dtype=int64, numpy=5>"
      ]
     },
     "execution_count": 52,
     "metadata": {},
     "output_type": "execute_result"
    }
   ],
   "source": [
    "#actual answer in numpy\n",
    "label_val[10]"
   ]
  },
  {
   "cell_type": "code",
   "execution_count": 6,
   "metadata": {},
   "outputs": [],
   "source": [
    "#modular inception block\n",
    "\n",
    "def inception_block(x):\n",
    "    x1 = Conv2D(filters=16,kernel_size=1,strides=2,padding='same',activation='relu')(x)\n",
    "    x2 = Conv2D(filters=24,kernel_size=1,strides=2,padding='same',activation='relu')(x)\n",
    "    x3 = Conv2D(filters=4,kernel_size=1,strides=2,padding='same',activation='relu')(x)\n",
    "    x4 = MaxPooling2D(pool_size=3,strides=2,padding='same')(x)\n",
    "    \n",
    "    x2 = Conv2D(filters=32,kernel_size=3,strides=1,padding='same',activation='relu')(x2)\n",
    "    x3 = Conv2D(filters=8,kernel_size=5,strides=1,padding='same',activation='relu')(x3)\n",
    "    x4 = Conv2D(filters=8,kernel_size=1,strides=1,padding='same',activation='relu')(x4)\n",
    "    #combining all convolutions as one layer\n",
    "    con = concatenate([x1,x2,x3,x4])\n",
    "    return con"
   ]
  },
  {
   "cell_type": "code",
   "execution_count": 7,
   "metadata": {},
   "outputs": [
    {
     "name": "stderr",
     "output_type": "stream",
     "text": [
      "WARNING: Logging before flag parsing goes to stderr.\n",
      "W0805 21:21:13.278178 140091101239040 nn_ops.py:4224] Large dropout rate: 0.7 (>0.5). In TensorFlow 2.x, dropout() uses dropout rate instead of keep_prob. Please ensure that this is intended.\n"
     ]
    },
    {
     "name": "stdout",
     "output_type": "stream",
     "text": [
      "Model: \"model\"\n",
      "__________________________________________________________________________________________________\n",
      "Layer (type)                    Output Shape         Param #     Connected to                     \n",
      "==================================================================================================\n",
      "input_1 (InputLayer)            [(None, 32, 32, 3)]  0                                            \n",
      "__________________________________________________________________________________________________\n",
      "conv2d (Conv2D)                 (None, 16, 16, 16)   448         input_1[0][0]                    \n",
      "__________________________________________________________________________________________________\n",
      "batch_normalization (BatchNorma (None, 16, 16, 16)   64          conv2d[0][0]                     \n",
      "__________________________________________________________________________________________________\n",
      "conv2d_2 (Conv2D)               (None, 8, 8, 24)     408         batch_normalization[0][0]        \n",
      "__________________________________________________________________________________________________\n",
      "conv2d_3 (Conv2D)               (None, 8, 8, 4)      68          batch_normalization[0][0]        \n",
      "__________________________________________________________________________________________________\n",
      "max_pooling2d (MaxPooling2D)    (None, 8, 8, 16)     0           batch_normalization[0][0]        \n",
      "__________________________________________________________________________________________________\n",
      "conv2d_1 (Conv2D)               (None, 8, 8, 16)     272         batch_normalization[0][0]        \n",
      "__________________________________________________________________________________________________\n",
      "conv2d_4 (Conv2D)               (None, 8, 8, 32)     6944        conv2d_2[0][0]                   \n",
      "__________________________________________________________________________________________________\n",
      "conv2d_5 (Conv2D)               (None, 8, 8, 8)      808         conv2d_3[0][0]                   \n",
      "__________________________________________________________________________________________________\n",
      "conv2d_6 (Conv2D)               (None, 8, 8, 8)      136         max_pooling2d[0][0]              \n",
      "__________________________________________________________________________________________________\n",
      "concatenate (Concatenate)       (None, 8, 8, 64)     0           conv2d_1[0][0]                   \n",
      "                                                                 conv2d_4[0][0]                   \n",
      "                                                                 conv2d_5[0][0]                   \n",
      "                                                                 conv2d_6[0][0]                   \n",
      "__________________________________________________________________________________________________\n",
      "conv2d_7 (Conv2D)               (None, 4, 4, 32)     18464       concatenate[0][0]                \n",
      "__________________________________________________________________________________________________\n",
      "batch_normalization_1 (BatchNor (None, 4, 4, 32)     128         conv2d_7[0][0]                   \n",
      "__________________________________________________________________________________________________\n",
      "conv2d_9 (Conv2D)               (None, 2, 2, 24)     792         batch_normalization_1[0][0]      \n",
      "__________________________________________________________________________________________________\n",
      "conv2d_10 (Conv2D)              (None, 2, 2, 4)      132         batch_normalization_1[0][0]      \n",
      "__________________________________________________________________________________________________\n",
      "max_pooling2d_1 (MaxPooling2D)  (None, 2, 2, 32)     0           batch_normalization_1[0][0]      \n",
      "__________________________________________________________________________________________________\n",
      "conv2d_8 (Conv2D)               (None, 2, 2, 16)     528         batch_normalization_1[0][0]      \n",
      "__________________________________________________________________________________________________\n",
      "conv2d_11 (Conv2D)              (None, 2, 2, 32)     6944        conv2d_9[0][0]                   \n",
      "__________________________________________________________________________________________________\n",
      "conv2d_12 (Conv2D)              (None, 2, 2, 8)      808         conv2d_10[0][0]                  \n",
      "__________________________________________________________________________________________________\n",
      "conv2d_13 (Conv2D)              (None, 2, 2, 8)      264         max_pooling2d_1[0][0]            \n",
      "__________________________________________________________________________________________________\n",
      "concatenate_1 (Concatenate)     (None, 2, 2, 64)     0           conv2d_8[0][0]                   \n",
      "                                                                 conv2d_11[0][0]                  \n",
      "                                                                 conv2d_12[0][0]                  \n",
      "                                                                 conv2d_13[0][0]                  \n",
      "__________________________________________________________________________________________________\n",
      "conv2d_15 (Conv2D)              (None, 1, 1, 24)     1560        concatenate_1[0][0]              \n",
      "__________________________________________________________________________________________________\n",
      "conv2d_16 (Conv2D)              (None, 1, 1, 4)      260         concatenate_1[0][0]              \n",
      "__________________________________________________________________________________________________\n",
      "max_pooling2d_2 (MaxPooling2D)  (None, 1, 1, 64)     0           concatenate_1[0][0]              \n",
      "__________________________________________________________________________________________________\n",
      "conv2d_14 (Conv2D)              (None, 1, 1, 16)     1040        concatenate_1[0][0]              \n",
      "__________________________________________________________________________________________________\n",
      "conv2d_17 (Conv2D)              (None, 1, 1, 32)     6944        conv2d_15[0][0]                  \n",
      "__________________________________________________________________________________________________\n",
      "conv2d_18 (Conv2D)              (None, 1, 1, 8)      808         conv2d_16[0][0]                  \n",
      "__________________________________________________________________________________________________\n",
      "conv2d_19 (Conv2D)              (None, 1, 1, 8)      520         max_pooling2d_2[0][0]            \n",
      "__________________________________________________________________________________________________\n",
      "concatenate_2 (Concatenate)     (None, 1, 1, 64)     0           conv2d_14[0][0]                  \n",
      "                                                                 conv2d_17[0][0]                  \n",
      "                                                                 conv2d_18[0][0]                  \n",
      "                                                                 conv2d_19[0][0]                  \n",
      "__________________________________________________________________________________________________\n",
      "conv2d_21 (Conv2D)              (None, 1, 1, 24)     1560        concatenate_2[0][0]              \n",
      "__________________________________________________________________________________________________\n",
      "conv2d_22 (Conv2D)              (None, 1, 1, 4)      260         concatenate_2[0][0]              \n",
      "__________________________________________________________________________________________________\n",
      "max_pooling2d_3 (MaxPooling2D)  (None, 1, 1, 64)     0           concatenate_2[0][0]              \n",
      "__________________________________________________________________________________________________\n",
      "conv2d_20 (Conv2D)              (None, 1, 1, 16)     1040        concatenate_2[0][0]              \n",
      "__________________________________________________________________________________________________\n",
      "conv2d_23 (Conv2D)              (None, 1, 1, 32)     6944        conv2d_21[0][0]                  \n",
      "__________________________________________________________________________________________________\n",
      "conv2d_24 (Conv2D)              (None, 1, 1, 8)      808         conv2d_22[0][0]                  \n",
      "__________________________________________________________________________________________________\n",
      "conv2d_25 (Conv2D)              (None, 1, 1, 8)      520         max_pooling2d_3[0][0]            \n",
      "__________________________________________________________________________________________________\n",
      "concatenate_3 (Concatenate)     (None, 1, 1, 64)     0           conv2d_20[0][0]                  \n",
      "                                                                 conv2d_23[0][0]                  \n",
      "                                                                 conv2d_24[0][0]                  \n",
      "                                                                 conv2d_25[0][0]                  \n",
      "__________________________________________________________________________________________________\n",
      "conv2d_26 (Conv2D)              (None, 1, 1, 64)     36928       concatenate_3[0][0]              \n",
      "__________________________________________________________________________________________________\n",
      "batch_normalization_2 (BatchNor (None, 1, 1, 64)     256         conv2d_26[0][0]                  \n",
      "__________________________________________________________________________________________________\n",
      "conv2d_28 (Conv2D)              (None, 1, 1, 24)     1560        batch_normalization_2[0][0]      \n",
      "__________________________________________________________________________________________________\n",
      "conv2d_29 (Conv2D)              (None, 1, 1, 4)      260         batch_normalization_2[0][0]      \n",
      "__________________________________________________________________________________________________\n",
      "max_pooling2d_4 (MaxPooling2D)  (None, 1, 1, 64)     0           batch_normalization_2[0][0]      \n",
      "__________________________________________________________________________________________________\n",
      "conv2d_27 (Conv2D)              (None, 1, 1, 16)     1040        batch_normalization_2[0][0]      \n",
      "__________________________________________________________________________________________________\n",
      "conv2d_30 (Conv2D)              (None, 1, 1, 32)     6944        conv2d_28[0][0]                  \n",
      "__________________________________________________________________________________________________\n",
      "conv2d_31 (Conv2D)              (None, 1, 1, 8)      808         conv2d_29[0][0]                  \n",
      "__________________________________________________________________________________________________\n",
      "conv2d_32 (Conv2D)              (None, 1, 1, 8)      520         max_pooling2d_4[0][0]            \n",
      "__________________________________________________________________________________________________\n",
      "concatenate_4 (Concatenate)     (None, 1, 1, 64)     0           conv2d_27[0][0]                  \n",
      "                                                                 conv2d_30[0][0]                  \n",
      "                                                                 conv2d_31[0][0]                  \n",
      "                                                                 conv2d_32[0][0]                  \n",
      "__________________________________________________________________________________________________\n",
      "average_pooling2d (AveragePooli (None, 1, 1, 64)     0           concatenate_4[0][0]              \n",
      "__________________________________________________________________________________________________\n",
      "spatial_dropout2d (SpatialDropo (None, 1, 1, 64)     0           average_pooling2d[0][0]          \n",
      "__________________________________________________________________________________________________\n",
      "flatten (Flatten)               (None, 64)           0           spatial_dropout2d[0][0]          \n",
      "__________________________________________________________________________________________________\n",
      "dense (Dense)                   (None, 10)           650         flatten[0][0]                    \n",
      "__________________________________________________________________________________________________\n",
      "softmax (Softmax)               (None, 10)           0           dense[0][0]                      \n",
      "==================================================================================================\n",
      "Total params: 108,438\n",
      "Trainable params: 108,214\n",
      "Non-trainable params: 224\n",
      "__________________________________________________________________________________________________\n"
     ]
    }
   ],
   "source": [
    "#building model\n",
    "\n",
    "#this is a smaller model than in the paper because cifar is a smaller dataset\n",
    "inputs = Input(shape=(32,32,3))\n",
    "x = Conv2D(filters=16,kernel_size=3,strides=2,padding='same',activation='relu')(inputs)\n",
    "x = BatchNormalization()(x)\n",
    "\n",
    "x = inception_block(x)\n",
    "\n",
    "x = Conv2D(filters=32,kernel_size=3,strides=2,padding='same',activation='relu')(x)\n",
    "x = BatchNormalization()(x)\n",
    "\n",
    "x = inception_block(x)\n",
    "x = inception_block(x)\n",
    "x = inception_block(x)\n",
    "\n",
    "x = Conv2D(filters=64,kernel_size=3,strides=2,padding='same',activation='relu')(x)\n",
    "x = BatchNormalization()(x)\n",
    "\n",
    "x = inception_block(x)\n",
    "\n",
    "x = AveragePooling2D(pool_size=(3,3),strides=2,padding='same')(x)\n",
    "x = SpatialDropout2D(rate=0.7)(x) #dropout helps prevent overfitting when you have a lot of parameters\n",
    "x = Flatten()(x)\n",
    "x = Dense(10, activation='relu')(x) #drops into 10 possible answers\n",
    "x = Softmax()(x)\n",
    "\n",
    "model = tf.keras.Model(inputs,x)\n",
    "\n",
    "model.summary()"
   ]
  },
  {
   "cell_type": "code",
   "execution_count": 16,
   "metadata": {},
   "outputs": [],
   "source": [
    "opt = tf.train.AdamOptimizer(learning_rate=0.001)#defining learning rate"
   ]
  },
  {
   "cell_type": "code",
   "execution_count": 17,
   "metadata": {},
   "outputs": [],
   "source": [
    "model.compile(optimizer=opt,loss='sparse_categorical_crossentropy',metrics=['accuracy'])#defining loss"
   ]
  },
  {
   "cell_type": "code",
   "execution_count": 7,
   "metadata": {},
   "outputs": [
    {
     "name": "stdout",
     "output_type": "stream",
     "text": [
      "Epoch 1/10\n"
     ]
    },
    {
     "name": "stderr",
     "output_type": "stream",
     "text": [
      "W0805 15:13:31.160832 140374873450240 deprecation.py:323] From /usr/local/lib/python3.5/dist-packages/tensorflow/python/ops/math_grad.py:1250: add_dispatch_support.<locals>.wrapper (from tensorflow.python.ops.array_ops) is deprecated and will be removed in a future version.\n",
      "Instructions for updating:\n",
      "Use tf.where in 2.0, which has the same broadcast rule as np.where\n"
     ]
    },
    {
     "name": "stdout",
     "output_type": "stream",
     "text": []
    },
    {
     "name": "stdout",
     "output_type": "stream",
     "text": []
    },
    {
     "name": "stdout",
     "output_type": "stream",
     "text": []
    },
    {
     "name": "stdout",
     "output_type": "stream",
     "text": []
    },
    {
     "name": "stdout",
     "output_type": "stream",
     "text": []
    },
    {
     "name": "stdout",
     "output_type": "stream",
     "text": []
    },
    {
     "name": "stdout",
     "output_type": "stream",
     "text": []
    },
    {
     "name": "stdout",
     "output_type": "stream",
     "text": []
    },
    {
     "name": "stdout",
     "output_type": "stream",
     "text": []
    },
    {
     "name": "stdout",
     "output_type": "stream",
     "text": []
    },
    {
     "name": "stdout",
     "output_type": "stream",
     "text": []
    },
    {
     "name": "stdout",
     "output_type": "stream",
     "text": []
    },
    {
     "name": "stdout",
     "output_type": "stream",
     "text": []
    },
    {
     "name": "stdout",
     "output_type": "stream",
     "text": []
    },
    {
     "name": "stdout",
     "output_type": "stream",
     "text": []
    },
    {
     "name": "stdout",
     "output_type": "stream",
     "text": []
    },
    {
     "name": "stdout",
     "output_type": "stream",
     "text": []
    },
    {
     "name": "stdout",
     "output_type": "stream",
     "text": []
    },
    {
     "name": "stdout",
     "output_type": "stream",
     "text": []
    },
    {
     "name": "stdout",
     "output_type": "stream",
     "text": []
    },
    {
     "name": "stdout",
     "output_type": "stream",
     "text": []
    },
    {
     "name": "stdout",
     "output_type": "stream",
     "text": []
    },
    {
     "name": "stdout",
     "output_type": "stream",
     "text": []
    },
    {
     "name": "stdout",
     "output_type": "stream",
     "text": []
    },
    {
     "name": "stdout",
     "output_type": "stream",
     "text": []
    },
    {
     "name": "stdout",
     "output_type": "stream",
     "text": []
    },
    {
     "name": "stdout",
     "output_type": "stream",
     "text": []
    },
    {
     "name": "stdout",
     "output_type": "stream",
     "text": []
    },
    {
     "name": "stdout",
     "output_type": "stream",
     "text": []
    },
    {
     "name": "stdout",
     "output_type": "stream",
     "text": []
    },
    {
     "name": "stdout",
     "output_type": "stream",
     "text": []
    },
    {
     "name": "stdout",
     "output_type": "stream",
     "text": []
    },
    {
     "name": "stdout",
     "output_type": "stream",
     "text": []
    },
    {
     "name": "stdout",
     "output_type": "stream",
     "text": []
    },
    {
     "name": "stdout",
     "output_type": "stream",
     "text": []
    },
    {
     "name": "stdout",
     "output_type": "stream",
     "text": []
    },
    {
     "name": "stdout",
     "output_type": "stream",
     "text": []
    },
    {
     "name": "stdout",
     "output_type": "stream",
     "text": []
    },
    {
     "name": "stdout",
     "output_type": "stream",
     "text": []
    },
    {
     "name": "stdout",
     "output_type": "stream",
     "text": []
    },
    {
     "name": "stdout",
     "output_type": "stream",
     "text": []
    },
    {
     "name": "stdout",
     "output_type": "stream",
     "text": []
    },
    {
     "name": "stdout",
     "output_type": "stream",
     "text": []
    },
    {
     "name": "stdout",
     "output_type": "stream",
     "text": []
    },
    {
     "name": "stdout",
     "output_type": "stream",
     "text": []
    },
    {
     "name": "stdout",
     "output_type": "stream",
     "text": []
    },
    {
     "name": "stdout",
     "output_type": "stream",
     "text": []
    },
    {
     "name": "stdout",
     "output_type": "stream",
     "text": []
    },
    {
     "name": "stdout",
     "output_type": "stream",
     "text": []
    },
    {
     "name": "stdout",
     "output_type": "stream",
     "text": []
    },
    {
     "name": "stdout",
     "output_type": "stream",
     "text": []
    },
    {
     "name": "stdout",
     "output_type": "stream",
     "text": []
    },
    {
     "name": "stdout",
     "output_type": "stream",
     "text": [
      "50000/50000 [==============================] - 1921s 38ms/step - loss: 1.3315 - acc: 0.5367 - val_loss: 1.1565 - val_acc: 0.6005\n",
      "Epoch 2/10\n",
      "50000/50000 [==============================] - 1931s 39ms/step - loss: 1.0094 - acc: 0.6585 - val_loss: 1.2219 - val_acc: 0.6156\n",
      "Epoch 3/10\n",
      "50000/50000 [==============================] - 1948s 39ms/step - loss: 0.8956 - acc: 0.6971 - val_loss: 1.2636 - val_acc: 0.6219\n",
      "Epoch 4/10\n",
      "50000/50000 [==============================] - 1927s 39ms/step - loss: 0.8253 - acc: 0.7213 - val_loss: 1.3621 - val_acc: 0.6045\n",
      "Epoch 5/10\n",
      "50000/50000 [==============================] - 1940s 39ms/step - loss: 0.7819 - acc: 0.7367 - val_loss: 1.3162 - val_acc: 0.6191\n",
      "Epoch 6/10\n",
      "50000/50000 [==============================] - 1903s 38ms/step - loss: 0.7481 - acc: 0.7482 - val_loss: 1.3436 - val_acc: 0.6176\n",
      "Epoch 7/10\n",
      "50000/50000 [==============================] - 1882s 38ms/step - loss: 0.7268 - acc: 0.7572 - val_loss: 1.3654 - val_acc: 0.6173\n",
      "Epoch 8/10\n",
      "50000/50000 [==============================] - 1928s 39ms/step - loss: 0.7029 - acc: 0.7651 - val_loss: 1.3863 - val_acc: 0.6164\n",
      "Epoch 9/10\n",
      "50000/50000 [==============================] - 1912s 38ms/step - loss: 0.6847 - acc: 0.7723 - val_loss: 1.4181 - val_acc: 0.6155\n",
      "Epoch 10/10\n",
      "50000/50000 [==============================] - 1913s 38ms/step - loss: 0.6748 - acc: 0.7765 - val_loss: 1.4638 - val_acc: 0.6164\n"
     ]
    },
    {
     "data": {
      "text/plain": [
       "<tensorflow.python.keras.callbacks.History at 0x7fab00085d30>"
      ]
     },
     "execution_count": 7,
     "metadata": {},
     "output_type": "execute_result"
    }
   ],
   "source": [
    "model.fit(train_dataset,steps_per_epoch=50000,epochs=10,verbose=1,validation_data=test_dataset,validation_steps=10000)#start training, i loaded some previous weights so i didnt have to wait, but this is still works on its own"
   ]
  },
  {
   "cell_type": "code",
   "execution_count": 8,
   "metadata": {},
   "outputs": [
    {
     "name": "stderr",
     "output_type": "stream",
     "text": [
      "W0805 20:45:20.249067 140374873450240 hdf5_format.py:110] TensorFlow optimizers do not make it possible to access optimizer attributes or optimizer state after instantiation. As a result, we cannot save the optimizer as part of the model save file. You will have to compile your model again after loading it. Prefer using a Keras optimizer instead (see keras.io/optimizers).\n"
     ]
    }
   ],
   "source": [
    "model.save('inception-v1_1.0')"
   ]
  },
  {
   "cell_type": "code",
   "execution_count": 9,
   "metadata": {},
   "outputs": [
    {
     "name": "stderr",
     "output_type": "stream",
     "text": [
      "WARNING: Logging before flag parsing goes to stderr.\n",
      "W0806 19:09:43.443620 140438583117568 nn_ops.py:4224] Large dropout rate: 0.7 (>0.5). In TensorFlow 2.x, dropout() uses dropout rate instead of keep_prob. Please ensure that this is intended.\n",
      "W0806 19:09:43.633462 140438583117568 hdf5_format.py:221] No training configuration found in save file: the model was *not* compiled. Compile it manually.\n"
     ]
    }
   ],
   "source": [
    "from tensorflow.keras.models import load_model\n",
    "\n",
    "model = load_model('inception-v1_1.0')"
   ]
  },
  {
   "cell_type": "code",
   "execution_count": 28,
   "metadata": {},
   "outputs": [
    {
     "name": "stdout",
     "output_type": "stream",
     "text": [
      "Epoch 1/10\n",
      "50000/50000 [==============================] - 1293s 26ms/step - loss: 0.5294 - acc: 0.8246 - val_loss: 1.6462 - val_acc: 0.6247\n",
      "Epoch 2/10\n",
      "50000/50000 [==============================] - 1282s 26ms/step - loss: 0.4833 - acc: 0.8392 - val_loss: 1.7266 - val_acc: 0.6221\n",
      "Epoch 3/10\n",
      "50000/50000 [==============================] - 1275s 26ms/step - loss: 0.4633 - acc: 0.8463 - val_loss: 1.7675 - val_acc: 0.6189\n",
      "Epoch 4/10\n",
      "50000/50000 [==============================] - 1293s 26ms/step - loss: 0.4509 - acc: 0.8497 - val_loss: 1.8291 - val_acc: 0.6198\n",
      "Epoch 5/10\n",
      "50000/50000 [==============================] - 1314s 26ms/step - loss: 0.4409 - acc: 0.8533 - val_loss: 1.8414 - val_acc: 0.6187\n",
      "Epoch 6/10\n",
      "50000/50000 [==============================] - 1307s 26ms/step - loss: 0.4345 - acc: 0.8556 - val_loss: 1.8935 - val_acc: 0.6144\n",
      "Epoch 7/10\n",
      "50000/50000 [==============================] - 1318s 26ms/step - loss: 0.4252 - acc: 0.8589 - val_loss: 1.9369 - val_acc: 0.6134\n",
      "Epoch 8/10\n",
      "50000/50000 [==============================] - 1340s 27ms/step - loss: 0.4179 - acc: 0.8611 - val_loss: 1.9750 - val_acc: 0.6150\n",
      "Epoch 9/10\n",
      "50000/50000 [==============================] - 1397s 28ms/step - loss: 0.4157 - acc: 0.8617 - val_loss: 1.9345 - val_acc: 0.6122\n",
      "Epoch 10/10\n",
      "50000/50000 [==============================] - 1312s 26ms/step - loss: 0.4100 - acc: 0.8641 - val_loss: 1.9643 - val_acc: 0.6116\n"
     ]
    },
    {
     "data": {
      "text/plain": [
       "<tensorflow.python.keras.callbacks.History at 0x7f2be0333da0>"
      ]
     },
     "execution_count": 28,
     "metadata": {},
     "output_type": "execute_result"
    }
   ],
   "source": [
    "opt = tf.train.AdamOptimizer(learning_rate=0.0001)\n",
    "model.compile(optimizer=opt,loss='sparse_categorical_crossentropy',metrics=['accuracy'])\n",
    "model.fit(train_dataset,steps_per_epoch=50000,epochs=10,verbose=1,validation_data=test_dataset,validation_steps=10000)"
   ]
  },
  {
   "cell_type": "code",
   "execution_count": 10,
   "metadata": {},
   "outputs": [],
   "source": [
    "from keras.datasets import cifar10\n",
    "\n",
    "(x_train,y_train),(x_val,y_val) = cifar10.load_data()"
   ]
  },
  {
   "cell_type": "code",
   "execution_count": 22,
   "metadata": {},
   "outputs": [
    {
     "name": "stdout",
     "output_type": "stream",
     "text": [
      "Training data shape (50000, 32, 32, 3)\n"
     ]
    },
    {
     "data": {
      "text/plain": [
       "<matplotlib.image.AxesImage at 0x7f2c14585908>"
      ]
     },
     "execution_count": 22,
     "metadata": {},
     "output_type": "execute_result"
    },
    {
     "data": {
      "image/png": "[encoded data removed]",
      "text/plain": [
       "<Figure size 432x288 with 2 Axes>"
      ]
     },
     "metadata": {
      "needs_background": "light"
     },
     "output_type": "display_data"
    }
   ],
   "source": [
    "from matplotlib import pyplot as plt\n",
    "%matplotlib inline\n",
    "\n",
    "print('Training data shape', x_train.shape)\n",
    "_,(ax1,ax2) = plt.subplots(1,2)\n",
    "ax1.imshow(x_val[1].reshape(32,32,3))\n",
    "ax2.imshow(x_val[5].reshape(32,32,3))"
   ]
  },
  {
   "cell_type": "code",
   "execution_count": 23,
   "metadata": {},
   "outputs": [],
   "source": [
    "answer = model.predict(x_val[5].reshape(1,32,32,3))"
   ]
  },
  {
   "cell_type": "code",
   "execution_count": 24,
   "metadata": {},
   "outputs": [],
   "source": [
    "import numpy as np\n",
    "num_answer = np.argmax(answer[0])"
   ]
  },
  {
   "cell_type": "code",
   "execution_count": 25,
   "metadata": {},
   "outputs": [
    {
     "data": {
      "text/plain": [
       "array([6])"
      ]
     },
     "execution_count": 25,
     "metadata": {},
     "output_type": "execute_result"
    }
   ],
   "source": [
    "y_val[5]"
   ]
  },
  {
   "cell_type": "code",
   "execution_count": 26,
   "metadata": {},
   "outputs": [
    {
     "data": {
      "text/plain": [
       "6"
      ]
     },
     "execution_count": 26,
     "metadata": {},
     "output_type": "execute_result"
    }
   ],
   "source": [
    "num_answer"
   ]
  },
  {
   "cell_type": "code",
   "execution_count": null,
   "metadata": {},
   "outputs": [],
   "source": []
  },
  {
   "cell_type": "code",
   "execution_count": null,
   "metadata": {},
   "outputs": [],
   "source": []
  }
 ],
 "metadata": {
  "kernelspec": {
   "display_name": "Python 3",
   "language": "python",
   "name": "python3"
  },
  "language_info": {
   "codemirror_mode": {
    "name": "ipython",
    "version": 3
   },
   "file_extension": ".py",
   "mimetype": "text/x-python",
   "name": "python",
   "nbconvert_exporter": "python",
   "pygments_lexer": "ipython3",
   "version": "3.5.3"
  }
 },
 "nbformat": 4,
 "nbformat_minor": 2
}
